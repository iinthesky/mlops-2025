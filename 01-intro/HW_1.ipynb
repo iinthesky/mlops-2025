{
 "cells": [
  {
   "cell_type": "code",
   "execution_count": 1,
   "id": "57ef5e42",
   "metadata": {},
   "outputs": [],
   "source": [
    "import pandas as pd\n",
    "import sklearn\n",
    "from sklearn.feature_extraction import DictVectorizer\n",
    "from sklearn.linear_model import LinearRegression\n",
    "from sklearn.metrics import mean_squared_error"
   ]
  },
  {
   "cell_type": "code",
   "execution_count": 2,
   "id": "14859e4a",
   "metadata": {},
   "outputs": [
    {
     "data": {
      "text/plain": [
       "'1.4.2'"
      ]
     },
     "execution_count": 2,
     "metadata": {},
     "output_type": "execute_result"
    }
   ],
   "source": [
    "pd.__version__"
   ]
  },
  {
   "cell_type": "code",
   "execution_count": 3,
   "id": "fd85133f",
   "metadata": {},
   "outputs": [
    {
     "data": {
      "text/plain": [
       "'1.0.2'"
      ]
     },
     "execution_count": 3,
     "metadata": {},
     "output_type": "execute_result"
    }
   ],
   "source": [
    "sklearn.__version__"
   ]
  },
  {
   "cell_type": "code",
   "execution_count": 4,
   "id": "213d8b29",
   "metadata": {},
   "outputs": [],
   "source": [
    "Jan_df = pd.read_parquet('https://d37ci6vzurychx.cloudfront.net/trip-data/yellow_tripdata_2023-01.parquet')"
   ]
  },
  {
   "cell_type": "code",
   "execution_count": 5,
   "id": "178d7d2d",
   "metadata": {},
   "outputs": [
    {
     "name": "stdout",
     "output_type": "stream",
     "text": [
      "<class 'pandas.core.frame.DataFrame'>\n",
      "RangeIndex: 3066766 entries, 0 to 3066765\n",
      "Data columns (total 19 columns):\n",
      " #   Column                 Dtype         \n",
      "---  ------                 -----         \n",
      " 0   VendorID               int64         \n",
      " 1   tpep_pickup_datetime   datetime64[ns]\n",
      " 2   tpep_dropoff_datetime  datetime64[ns]\n",
      " 3   passenger_count        float64       \n",
      " 4   trip_distance          float64       \n",
      " 5   RatecodeID             float64       \n",
      " 6   store_and_fwd_flag     object        \n",
      " 7   PULocationID           int64         \n",
      " 8   DOLocationID           int64         \n",
      " 9   payment_type           int64         \n",
      " 10  fare_amount            float64       \n",
      " 11  extra                  float64       \n",
      " 12  mta_tax                float64       \n",
      " 13  tip_amount             float64       \n",
      " 14  tolls_amount           float64       \n",
      " 15  improvement_surcharge  float64       \n",
      " 16  total_amount           float64       \n",
      " 17  congestion_surcharge   float64       \n",
      " 18  airport_fee            float64       \n",
      "dtypes: datetime64[ns](2), float64(12), int64(4), object(1)\n",
      "memory usage: 444.6+ MB\n"
     ]
    }
   ],
   "source": [
    "Jan_df.info()"
   ]
  },
  {
   "cell_type": "code",
   "execution_count": 6,
   "id": "cab92bbb",
   "metadata": {},
   "outputs": [],
   "source": [
    "Feb_df = pd.read_parquet(\"https://d37ci6vzurychx.cloudfront.net/trip-data/yellow_tripdata_2023-02.parquet\")"
   ]
  },
  {
   "cell_type": "code",
   "execution_count": 7,
   "id": "54934375",
   "metadata": {},
   "outputs": [
    {
     "name": "stdout",
     "output_type": "stream",
     "text": [
      "There are 19 columns in January dataset.\n"
     ]
    }
   ],
   "source": [
    "# Question 1\n",
    "col_count = Jan_df.shape[1]\n",
    "print(f'There are {col_count} columns in January dataset.')"
   ]
  },
  {
   "cell_type": "code",
   "execution_count": 8,
   "id": "7026a8df",
   "metadata": {},
   "outputs": [
    {
     "name": "stdout",
     "output_type": "stream",
     "text": [
      "The statistics for the durations are:\n"
     ]
    },
    {
     "data": {
      "text/plain": [
       "count    3.066766e+06\n",
       "mean     1.566900e+01\n",
       "std      4.259435e+01\n",
       "min     -2.920000e+01\n",
       "25%      7.116667e+00\n",
       "50%      1.151667e+01\n",
       "75%      1.830000e+01\n",
       "max      1.002918e+04\n",
       "Name: duration, dtype: float64"
      ]
     },
     "execution_count": 8,
     "metadata": {},
     "output_type": "execute_result"
    }
   ],
   "source": [
    "# Question 2\n",
    "# find the difference and convert it into minutes\n",
    "Jan_df['duration'] = (Jan_df.tpep_dropoff_datetime - Jan_df.tpep_pickup_datetime).dt.total_seconds()/60\n",
    "print('The statistics for the durations are:')\n",
    "Jan_df.duration.describe()"
   ]
  },
  {
   "cell_type": "code",
   "execution_count": 9,
   "id": "14f3b2f9",
   "metadata": {},
   "outputs": [
    {
     "name": "stdout",
     "output_type": "stream",
     "text": [
      "98.12% of the records left after dropping the outliers.\n"
     ]
    }
   ],
   "source": [
    "# Question 3\n",
    "original_count = Jan_df.shape[0]\n",
    "drop_outliers_Jan_df = Jan_df[(Jan_df['duration'] >=1) & (Jan_df['duration'] <=60)]\n",
    "new_count = drop_outliers_Jan_df.shape[0]\n",
    "print(f'{new_count*100/original_count:.2f}% of the records left after dropping the outliers.')"
   ]
  },
  {
   "cell_type": "code",
   "execution_count": 10,
   "id": "0c50da02",
   "metadata": {},
   "outputs": [
    {
     "name": "stderr",
     "output_type": "stream",
     "text": [
      "/tmp/ipykernel_4853/1965703448.py:5: SettingWithCopyWarning: \n",
      "A value is trying to be set on a copy of a slice from a DataFrame.\n",
      "Try using .loc[row_indexer,col_indexer] = value instead\n",
      "\n",
      "See the caveats in the documentation: https://pandas.pydata.org/pandas-docs/stable/user_guide/indexing.html#returning-a-view-versus-a-copy\n",
      "  drop_outliers_Jan_df[select_feature_categorical] = drop_outliers_Jan_df[select_feature_categorical].astype(str)\n"
     ]
    }
   ],
   "source": [
    "# Question 4\n",
    "select_feature_categorical = ['PULocationID', 'DOLocationID']\n",
    "\n",
    "# 4.1: convert the categorical int dtype into str\n",
    "drop_outliers_Jan_df[select_feature_categorical] = drop_outliers_Jan_df[select_feature_categorical].astype(str)\n",
    "# 4.2: turn dataframe to a list of dictionary\n",
    "train_dicts = drop_outliers_Jan_df[select_feature_categorical].to_dict(orient='records')\n",
    "# 4.3: fit the dictionary vectorizer\n",
    "dv = DictVectorizer()\n",
    "X_train = dv.fit_transform(train_dicts)"
   ]
  },
  {
   "cell_type": "code",
   "execution_count": 11,
   "id": "174aeea4",
   "metadata": {},
   "outputs": [
    {
     "data": {
      "text/plain": [
       "scipy.sparse.csr.csr_matrix"
      ]
     },
     "execution_count": 11,
     "metadata": {},
     "output_type": "execute_result"
    }
   ],
   "source": [
    "type(X_train)"
   ]
  },
  {
   "cell_type": "code",
   "execution_count": 12,
   "id": "b02b3e30",
   "metadata": {},
   "outputs": [
    {
     "name": "stdout",
     "output_type": "stream",
     "text": [
      "The dimension of the matrtx is: (3009173, 515)\n"
     ]
    }
   ],
   "source": [
    "# 4.4 get the dimension of the matrix\n",
    "matrix_dim = X_train.shape\n",
    "print(f'The dimension of the matrtx is: {matrix_dim}')"
   ]
  },
  {
   "cell_type": "code",
   "execution_count": 13,
   "id": "7fb9144f",
   "metadata": {},
   "outputs": [
    {
     "data": {
      "text/plain": [
       "PULocationID    255\n",
       "DOLocationID    260\n",
       "dtype: int64"
      ]
     },
     "execution_count": 13,
     "metadata": {},
     "output_type": "execute_result"
    }
   ],
   "source": [
    "drop_outliers_Jan_df[select_feature_categorical].nunique()"
   ]
  },
  {
   "cell_type": "code",
   "execution_count": 14,
   "id": "69f1799f",
   "metadata": {},
   "outputs": [
    {
     "data": {
      "text/plain": [
       "(3009173, 20)"
      ]
     },
     "execution_count": 14,
     "metadata": {},
     "output_type": "execute_result"
    }
   ],
   "source": [
    "drop_outliers_Jan_df.shape"
   ]
  },
  {
   "cell_type": "code",
   "execution_count": 15,
   "id": "1c255d94",
   "metadata": {},
   "outputs": [
    {
     "data": {
      "text/plain": [
       "LinearRegression()"
      ]
     },
     "execution_count": 15,
     "metadata": {},
     "output_type": "execute_result"
    }
   ],
   "source": [
    "# Question 5\n",
    "target = 'duration'\n",
    "y_train = drop_outliers_Jan_df[target].values\n",
    "\n",
    "# fit the linear regression model\n",
    "lr = LinearRegression()\n",
    "lr.fit(X_train, y_train)"
   ]
  },
  {
   "cell_type": "code",
   "execution_count": 16,
   "id": "ad8c0bc1",
   "metadata": {},
   "outputs": [
    {
     "name": "stdout",
     "output_type": "stream",
     "text": [
      "RMSE on trainining dataset: 7.649261027919939.\n"
     ]
    }
   ],
   "source": [
    "y_train_pred = lr.predict(X_train)\n",
    "train_rmse = mean_squared_error(y_train_pred, y_train, squared=False)\n",
    "print(f'RMSE on trainining dataset: {train_rmse}.')"
   ]
  },
  {
   "cell_type": "code",
   "execution_count": 17,
   "id": "6dd19479",
   "metadata": {},
   "outputs": [],
   "source": [
    "# Question 6: write the whole data processing steps into one function. \n",
    "def data_processing(df):\n",
    "    # Step 1: create the target column and convert it into minutes\n",
    "    df['duration'] = (df.tpep_dropoff_datetime - df.tpep_pickup_datetime).dt.total_seconds()/60\n",
    "#     print(df.duration.describe())\n",
    "#     print()\n",
    "\n",
    "    # Step 2: drop outliers and calculate the percentage left after dropping\n",
    "    original_count = df.shape[0]\n",
    "    drop_outliers_df = df[(df['duration'] >=1) & (df['duration'] <=60)]\n",
    "    new_count = drop_outliers_df.shape[0]\n",
    "#     print(f'{new_count*100/original_count:.2f}% of the records left after dropping the outliers.')\n",
    "#     print()\n",
    "\n",
    "    # Step 3: select categorical features and convert the data type\n",
    "    select_feature_categorical = ['PULocationID', 'DOLocationID']\n",
    "    drop_outliers_df[select_feature_categorical] = drop_outliers_df[select_feature_categorical].astype(str)\n",
    "\n",
    "    return drop_outliers_df"
   ]
  },
  {
   "cell_type": "code",
   "execution_count": 18,
   "id": "00323686",
   "metadata": {},
   "outputs": [
    {
     "name": "stderr",
     "output_type": "stream",
     "text": [
      "/tmp/ipykernel_4853/191934617.py:17: SettingWithCopyWarning: \n",
      "A value is trying to be set on a copy of a slice from a DataFrame.\n",
      "Try using .loc[row_indexer,col_indexer] = value instead\n",
      "\n",
      "See the caveats in the documentation: https://pandas.pydata.org/pandas-docs/stable/user_guide/indexing.html#returning-a-view-versus-a-copy\n",
      "  drop_outliers_df[select_feature_categorical] = drop_outliers_df[select_feature_categorical].astype(str)\n"
     ]
    }
   ],
   "source": [
    "new_Feb_df = data_processing(Feb_df)"
   ]
  },
  {
   "cell_type": "code",
   "execution_count": 19,
   "id": "73ccc00a",
   "metadata": {},
   "outputs": [
    {
     "name": "stdout",
     "output_type": "stream",
     "text": [
      "RMSE on evaluation dataset is: 7.811832638273232\n"
     ]
    }
   ],
   "source": [
    "# apply the trained model on the evaluation dataset\n",
    "eval_dicts = new_Feb_df[select_feature_categorical].to_dict(orient='records')\n",
    "# fit the dictionary vectorizer\n",
    "X_eval = dv.transform(eval_dicts) # for this step, we should use transform instead of fit_transform\n",
    "y_eval = new_Feb_df[target].values\n",
    "\n",
    "y_pred = lr.predict(X_eval)\n",
    "eval_rmse = mean_squared_error(y_pred, y_eval, squared=False)\n",
    "print(f'RMSE on evaluation dataset is: {eval_rmse}')"
   ]
  },
  {
   "cell_type": "code",
   "execution_count": null,
   "id": "85ea5e4e",
   "metadata": {},
   "outputs": [],
   "source": []
  }
 ],
 "metadata": {
  "kernelspec": {
   "display_name": "Python 3 (ipykernel)",
   "language": "python",
   "name": "python3"
  },
  "language_info": {
   "codemirror_mode": {
    "name": "ipython",
    "version": 3
   },
   "file_extension": ".py",
   "mimetype": "text/x-python",
   "name": "python",
   "nbconvert_exporter": "python",
   "pygments_lexer": "ipython3",
   "version": "3.9.12"
  }
 },
 "nbformat": 4,
 "nbformat_minor": 5
}
